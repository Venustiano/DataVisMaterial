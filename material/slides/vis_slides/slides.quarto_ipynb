{
  "cells": [
    {
      "cell_type": "markdown",
      "metadata": {},
      "source": [
        "---\n",
        "title: \"My Quarto Slides\"\n",
        "format: revealjs\n",
        "jupyter: python3\n",
        "---\n",
        "\n",
        "\n",
        "## Welcome\n",
        "\n",
        "\n",
        "```{r}\n",
        "getwd()\n",
        "```\n",
        "\n",
        "\n",
        "This is a Quarto slide!\n",
        "\n",
        "```{r}\n",
        "library(reticulate)\n",
        "use_python(\"/opt/conda/bin/python\", required = TRUE)\n",
        "```\n",
        "\n",
        "\n",
        "---\n",
        "\n",
        "## Embedded Jupyter Code\n"
      ],
      "id": "63dabbcb"
    },
    {
      "cell_type": "code",
      "metadata": {},
      "source": [
        "print(\"Hello from Jupyter!\")"
      ],
      "id": "2fd17abc",
      "execution_count": null,
      "outputs": []
    },
    {
      "cell_type": "markdown",
      "metadata": {},
      "source": [
        "---\n",
        "\n",
        "## Embedded plot 1\n",
        "\n",
        "\n",
        "```{r}\n",
        "library(ggplot2)\n",
        "ggplot(mtcars, aes(mpg, wt)) + geom_point()\n",
        "```\n",
        "\n",
        "---\n",
        "## Embeded plot\n",
        "\n",
        "```{r}\n",
        "library(dviz.supp)\n",
        "library(forcats)\n",
        "# library(patchwork)\n",
        "library(lubridate)\n",
        "\n",
        "temps_long <- filter(ncdc_normals,\n",
        "                station_id %in% c(\n",
        "                  \"USW00014819\", # Chicago, IL 60638\n",
        "                  #\"USC00516128\", # Honolulu, HI 96813\n",
        "                  #\"USW00027502\", # Barrow, AK 99723, coldest point in the US\n",
        "                  \"USC00042319\", # Death Valley, CA 92328 hottest point in the US\n",
        "                  \"USW00093107\", # San Diego, CA 92145\n",
        "                  #\"USC00427606\"  # Salt Lake City, UT 84103\n",
        "                  \"USW00012918\" # Houston, TX 77061\n",
        "                )) %>%\n",
        "  mutate(location = fct_recode(factor(station_id),\n",
        "                               \"Chicago\" = \"USW00014819\",\n",
        "                               #\"Honolulu, HI\" = \"USC00516128\",\n",
        "                               #\"Barrow, AK\" = \"USW00027502\",\n",
        "                               \"Death Valley\" = \"USC00042319\",\n",
        "                               \"San Diego\" = \"USW00093107\",\n",
        "                               #\"Salt Lake City, UT\" = \"USC00427606\",\n",
        "                               \"Houston\" = \"USW00012918\")) %>%\n",
        "  mutate(location = factor(location, levels = c(\"Death Valley\", \"Houston\", \"San Diego\", \"Chicago\")))\n",
        "\n",
        "# head(temps_long)\n",
        "\n",
        "ggplot(temps_long, aes(x = date, y = temperature, color = location)) +\n",
        "  geom_line(linewidth = 1) +\n",
        "  scale_x_date(name = \"month\", \n",
        "               limits = c(ymd(\"0000-01-01\"), ymd(\"0001-01-04\")),\n",
        "               breaks = c(ymd(\"0000-01-01\"), ymd(\"0000-04-01\"), ymd(\"0000-07-01\"),\n",
        "                          ymd(\"0000-10-01\"), ymd(\"0001-01-01\")),\n",
        "               labels = c(\"Jan\", \"Apr\", \"Jul\", \"Oct\", \"Jan\"), expand = c(1/366, 0)) + \n",
        "  scale_y_continuous(limits = c(19.9, 107),\n",
        "                     breaks = seq(20, 100, by = 20),\n",
        "                     name = \"temperature (°F)\") +\n",
        "  scale_color_OkabeIto(order = c(1:3, 7), name = NULL) +\n",
        "  theme_dviz_grid() +\n",
        "  theme(legend.title.align = 0.5)\n",
        "```\n",
        "\n",
        "---\n",
        "\n",
        "\n",
        "## Embedded Jupyter Code\n"
      ],
      "id": "e11d85a2"
    },
    {
      "cell_type": "code",
      "metadata": {},
      "source": [
        "print(\"Hello from Jupyter!\")"
      ],
      "id": "4e146463",
      "execution_count": null,
      "outputs": []
    },
    {
      "cell_type": "markdown",
      "metadata": {},
      "source": [
        "---\n",
        "\n",
        "## Interactive plot\n"
      ],
      "id": "2790d1df"
    },
    {
      "cell_type": "code",
      "metadata": {},
      "source": [
        "# Importing the packages\n",
        "import plotly.express as px\n",
        "import pandas as pd\n",
        "# Loading and displaying the data\n",
        "tableRes = pd.read_csv('../../data/exergamewf.csv')\n",
        "\n",
        "tableRes[\"Participants\"] = \"Participants\" # in order to have a single root node\n",
        "tableRes[\"ppt\"] = tableRes[\"iSubj\"].astype(str)\n",
        "tableRes[\"strial\"] = tableRes[\"trial\"].astype(str)\n",
        "tableRes.head()"
      ],
      "id": "193976ec",
      "execution_count": null,
      "outputs": []
    }
  ],
  "metadata": {
    "kernelspec": {
      "display_name": "Python 3",
      "language": "python",
      "name": "python3"
    }
  },
  "nbformat": 4,
  "nbformat_minor": 5
}